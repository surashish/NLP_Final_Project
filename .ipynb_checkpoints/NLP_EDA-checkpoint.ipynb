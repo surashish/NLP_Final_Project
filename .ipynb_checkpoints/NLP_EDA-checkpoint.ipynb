{
 "cells": [
  {
   "cell_type": "code",
   "execution_count": 1,
   "metadata": {
    "colab": {},
    "colab_type": "code",
    "id": "lpu55MqWu_7o"
   },
   "outputs": [],
   "source": [
    "import numpy as np\n",
    "import matplotlib as plt\n",
    "import pandas as pd\n",
    "import xml.etree.ElementTree as ET\n",
    "import io\n",
    "#!pip install -U -q PyDrive\n",
    "import os\n",
    "# from pydrive.auth import GoogleAuth\n",
    "# from pydrive.drive import GoogleDrive\n",
    "# from google.colab import auth\n",
    "# from oauth2client.client import GoogleCredentials"
   ]
  },
  {
   "cell_type": "markdown",
   "metadata": {
    "colab_type": "text",
    "id": "yiQCTh-ycRiA"
   },
   "source": [
    "**Working import of a sample xml file from colab/drive**"
   ]
  },
  {
   "cell_type": "code",
   "execution_count": 2,
   "metadata": {
    "colab": {
     "base_uri": "https://localhost:8080/",
     "height": 34
    },
    "colab_type": "code",
    "id": "T7tyORUTyJTf",
    "outputId": "881ccf3e-6fe6-4150-aed8-427fe6739c1f"
   },
   "outputs": [],
   "source": [
    "# ##Note: if you are updating a file, re-run this cell to update the image of drive\n",
    "\n",
    "# # 1. Authenticate and create the PyDrive client.\n",
    "# auth.authenticate_user()\n",
    "# gauth = GoogleAuth()\n",
    "# gauth.credentials = GoogleCredentials.get_application_default()\n",
    "# drive = GoogleDrive(gauth)\n",
    "\n",
    "# # 2.  mount the google drive into colab. Now you can use terminal commmands like\n",
    "# #     !ls, !pwd, etc to navigate to your files. You should get a message like \n",
    "# #     'Drive already mounted' or, it will ask you to authenticate with google.\n",
    "# from google.colab import drive\n",
    "# drive.mount('/content/drive/', force_remount=True)\n",
    "\n"
   ]
  },
  {
   "cell_type": "markdown",
   "metadata": {
    "colab_type": "text",
    "id": "21eCrL0sdipH"
   },
   "source": [
    " **Importing annotation file**"
   ]
  },
  {
   "cell_type": "markdown",
   "metadata": {
    "colab_type": "text",
    "id": "TIMfD2xUreWj"
   },
   "source": [
    "**Extracting top and bottom text annotation, and separate the XML **"
   ]
  },
  {
   "cell_type": "code",
   "execution_count": 78,
   "metadata": {},
   "outputs": [],
   "source": [
    "mypath = 'PowerAnnotations_V1.0/AnnotatedThreads/non train/'\n",
    "\n",
    "#run this for train in case you need it\n",
    "#mypath = 'PowerAnnotations_V1.0/AnnotatedThreads/train/'\n"
   ]
  },
  {
   "cell_type": "code",
   "execution_count": 79,
   "metadata": {
    "colab": {
     "base_uri": "https://localhost:8080/",
     "height": 544
    },
    "colab_type": "code",
    "id": "Op-G0m9ZxL6I",
    "outputId": "65fd804c-a40a-41d0-f0d3-7387334eac17"
   },
   "outputs": [
    {
     "data": {
      "text/plain": [
       "['thread99.MN.infoadded.xml',\n",
       " 'thread104.MN.infoadded.xml',\n",
       " 'thread86.MN.infoadded.xml',\n",
       " 'thread92.MN.infoadded.xml',\n",
       " 'thread89.MN.infoadded.xml',\n",
       " 'thread96.MN.infoadded.xml',\n",
       " 'thread100.MN.infoadded.xml',\n",
       " 'thread82.MN.infoadded.xml',\n",
       " 'thread105.MN.infoadded.xml',\n",
       " 'thread98.MN.infoadded.xml',\n",
       " 'thread93.MN.infoadded.xml',\n",
       " 'thread88.MN.infoadded.xml',\n",
       " 'thread65.MN.infoadded.xml',\n",
       " 'thread83.MN.infoadded.xml',\n",
       " 'thread101.MN.infoadded.xml',\n",
       " 'thread90.MN.infoadded.xml',\n",
       " 'thread84.MN.infoadded.xml',\n",
       " 'thread106.MN.infoadded.xml',\n",
       " 'thread66.MN.infoadded.xml',\n",
       " 'thread102.MN.infoadded.xml',\n",
       " 'thread94.MN.infoadded.xml',\n",
       " 'thread72.MN.infoadded.xml',\n",
       " 'thread109.MN.infoadded.xml',\n",
       " 'thread91.MN.infoadded.xml',\n",
       " 'thread68.MN.infoadded.xml',\n",
       " 'thread85.MN.infoadded.xml',\n",
       " 'thread103.MN.infoadded.xml',\n",
       " 'thread81.MN.infoadded.xml',\n",
       " 'thread67.MN.infoadded.xml',\n",
       " 'thread108.MN.infoadded.xml',\n",
       " 'thread95.MN.infoadded.xml']"
      ]
     },
     "execution_count": 79,
     "metadata": {},
     "output_type": "execute_result"
    }
   ],
   "source": [
    "# get all files in folder.\n",
    "\n",
    "from os import listdir\n",
    "from os.path import isfile, join\n",
    "filesInDir = [f for f in listdir(mypath) if (isfile(join(mypath, f)) and f[-4:] == '.xml')]\n",
    "filesInDir"
   ]
  },
  {
   "cell_type": "code",
   "execution_count": 80,
   "metadata": {
    "colab": {},
    "colab_type": "code",
    "id": "Yym3Qwx85fiA"
   },
   "outputs": [],
   "source": [
    "data = {}\n",
    "for i, f in enumerate(filesInDir):\n",
    "    file = open(mypath + f, 'r' , encoding=\"ISO-8859-1\")\n",
    "    data[f] = file.read()\n",
    "  \n",
    "  \n"
   ]
  },
  {
   "cell_type": "code",
   "execution_count": 81,
   "metadata": {},
   "outputs": [],
   "source": [
    "def writeFile(name, data):\n",
    "    fw = open(name, \"w+\")\n",
    "    fw.write(data)\n",
    "    fw.close()\n",
    "    return"
   ]
  },
  {
   "cell_type": "code",
   "execution_count": 82,
   "metadata": {
    "colab": {},
    "colab_type": "code",
    "id": "qqSC10mKh-9U"
   },
   "outputs": [],
   "source": [
    "#read each file in directory, then extract top & bottom annotations, amd XML. \n",
    "# Write xml to a separate dir.\n",
    "import re\n",
    "import os.path\n",
    "\n",
    "save_path = '/Users/t_sura/Desktop/School/NLP/project/NLP_Final_Project/Clean XML files'\n",
    "\n",
    "#name_of_file = raw_input(\"What is the name of the file: \")\n",
    "\n",
    "#\n",
    "df = pd.DataFrame(columns = ['filename', 'top_annotation', 'bottom_annotation'])\n",
    "  \n",
    "rownum = 0\n",
    "topAnno = []\n",
    "bottomAnno = []\n",
    "xmlfilename = []\n",
    "columnOfXML = []\n",
    "for k, v in data.items():\n",
    "    separatedXML = re.search('<custom>(.|\\n)*?<\\/custom>', v).group(0)\n",
    "    # --- run this line below for train data ---\n",
    "    #separatedXML = re.search('<xml>(.|\\n)*?<\\/xml>', v).group(0)\n",
    "    # ---\n",
    "    columnOfXML.append(separatedXML)\n",
    "    (startOfXML, endOfXML) = searchObj.span()\n",
    "    topAnno.append(v[:startOfXML])\n",
    "    bottomAnno.append(v[endOfXML:])\n",
    "    xmlfilename.append('clean_xml_' + k)\n",
    "    \n",
    "    name = 'clean_xml_' + k\n",
    "    completeName = os.path.join(save_path, name)  \n",
    "    writeFile(completeName, separatedXML)\n",
    "\n",
    "df['filename'] = pd.Series(xmlfilename)\n",
    "df['top_annotation'] = pd.Series(topAnno)\n",
    "df['bottom_annotation'] = pd.Series(bottomAnno)\n",
    "df['XML'] = pd.Series(columnOfXML)"
   ]
  },
  {
   "cell_type": "code",
   "execution_count": 83,
   "metadata": {
    "colab": {
     "base_uri": "https://localhost:8080/",
     "height": 1010
    },
    "colab_type": "code",
    "id": "xyBNx2Nfn4cR",
    "outputId": "c0eaf51a-5d74-447a-be29-a98eb804d8a8"
   },
   "outputs": [
    {
     "data": {
      "text/html": [
       "<div>\n",
       "<style scoped>\n",
       "    .dataframe tbody tr th:only-of-type {\n",
       "        vertical-align: middle;\n",
       "    }\n",
       "\n",
       "    .dataframe tbody tr th {\n",
       "        vertical-align: top;\n",
       "    }\n",
       "\n",
       "    .dataframe thead th {\n",
       "        text-align: right;\n",
       "    }\n",
       "</style>\n",
       "<table border=\"1\" class=\"dataframe\">\n",
       "  <thead>\n",
       "    <tr style=\"text-align: right;\">\n",
       "      <th></th>\n",
       "      <th>filename</th>\n",
       "      <th>top_annotation</th>\n",
       "      <th>bottom_annotation</th>\n",
       "      <th>XML</th>\n",
       "    </tr>\n",
       "  </thead>\n",
       "  <tbody>\n",
       "    <tr>\n",
       "      <th>0</th>\n",
       "      <td>clean_xml_thread99.MN.infoadded.xml</td>\n",
       "      <td>99\\nAnnotation for intention:\\n\\nExternal-even...</td>\n",
       "      <td></td>\n",
       "      <td>&lt;custom&gt;\\n\\n\\t&lt;row&gt;\\n\\n\\t\\t&lt;thread_id&gt;99&lt;/thre...</td>\n",
       "    </tr>\n",
       "    <tr>\n",
       "      <th>1</th>\n",
       "      <td>clean_xml_thread104.MN.infoadded.xml</td>\n",
       "      <td>104\\nAnnotation for intention:\\n\\nArgumentatio...</td>\n",
       "      <td>\\n\\nHierarchical Power Annotation:\\nPerson_1: ...</td>\n",
       "      <td>&lt;custom&gt;\\n\\n\\t&lt;row&gt;\\n\\n\\t\\t&lt;thread_id&gt;104&lt;/thr...</td>\n",
       "    </tr>\n",
       "    <tr>\n",
       "      <th>2</th>\n",
       "      <td>clean_xml_thread86.MN.infoadded.xml</td>\n",
       "      <td>86\\n\\nAnnotation for intention:\\n\\nArgumentati...</td>\n",
       "      <td></td>\n",
       "      <td>&lt;custom&gt;\\n\\n\\t&lt;row&gt;\\n\\n\\t\\t&lt;thread_id&gt;86&lt;/thre...</td>\n",
       "    </tr>\n",
       "    <tr>\n",
       "      <th>3</th>\n",
       "      <td>clean_xml_thread92.MN.infoadded.xml</td>\n",
       "      <td>92\\nAnnotation for intention:\\nArgumentation: ...</td>\n",
       "      <td></td>\n",
       "      <td>&lt;custom&gt;\\n\\n\\t&lt;row&gt;\\n\\n\\t\\t&lt;thread_id&gt;92&lt;/thre...</td>\n",
       "    </tr>\n",
       "    <tr>\n",
       "      <th>4</th>\n",
       "      <td>clean_xml_thread89.MN.infoadded.xml</td>\n",
       "      <td>89\\n\\nAnnotation for intention:\\n\\nExternal-ev...</td>\n",
       "      <td>address=\"Matt.Smith@ENRON.com\"/&gt;\\n\\n\\t&lt;from na...</td>\n",
       "      <td>&lt;custom&gt;\\n\\n\\t&lt;row&gt;\\n\\n\\t\\t&lt;thread_id&gt;89&lt;/thre...</td>\n",
       "    </tr>\n",
       "    <tr>\n",
       "      <th>5</th>\n",
       "      <td>clean_xml_thread96.MN.infoadded.xml</td>\n",
       "      <td>96\\nAnnotation for intention:\\n\\nKnowledge-Acq...</td>\n",
       "      <td></td>\n",
       "      <td>&lt;custom&gt;\\n\\n\\t&lt;row&gt;\\n\\n\\t\\t&lt;thread_id&gt;96&lt;/thre...</td>\n",
       "    </tr>\n",
       "    <tr>\n",
       "      <th>6</th>\n",
       "      <td>clean_xml_thread100.MN.infoadded.xml</td>\n",
       "      <td>100\\nAnnotation for intention:\\n\\nExternal-eve...</td>\n",
       "      <td></td>\n",
       "      <td>&lt;custom&gt;\\n\\n\\t&lt;row&gt;\\n\\n\\t\\t&lt;thread_id&gt;100&lt;/thr...</td>\n",
       "    </tr>\n",
       "    <tr>\n",
       "      <th>7</th>\n",
       "      <td>clean_xml_thread82.MN.infoadded.xml</td>\n",
       "      <td>82\\n\\nAnnotation for intention:\\n\\nKnowledge-A...</td>\n",
       "      <td></td>\n",
       "      <td>&lt;custom&gt;\\n\\n\\t&lt;row&gt;\\n\\n\\t\\t&lt;thread_id&gt;82&lt;/thre...</td>\n",
       "    </tr>\n",
       "    <tr>\n",
       "      <th>8</th>\n",
       "      <td>clean_xml_thread105.MN.infoadded.xml</td>\n",
       "      <td>105\\nAnnotation for intention:\\n\\nCollaboratio...</td>\n",
       "      <td></td>\n",
       "      <td>&lt;custom&gt;\\n\\n\\t&lt;row&gt;\\n\\n\\t\\t&lt;thread_id&gt;105&lt;/thr...</td>\n",
       "    </tr>\n",
       "    <tr>\n",
       "      <th>9</th>\n",
       "      <td>clean_xml_thread98.MN.infoadded.xml</td>\n",
       "      <td>98\\nAnnotation for intention:\\n\\nExternal-even...</td>\n",
       "      <td></td>\n",
       "      <td>&lt;custom&gt;\\n\\n\\t&lt;row&gt;\\n\\n\\t\\t&lt;thread_id&gt;98&lt;/thre...</td>\n",
       "    </tr>\n",
       "    <tr>\n",
       "      <th>10</th>\n",
       "      <td>clean_xml_thread93.MN.infoadded.xml</td>\n",
       "      <td>93\\nAnnotation for intention:\\n\\nArgumentation...</td>\n",
       "      <td></td>\n",
       "      <td>&lt;custom&gt;\\n\\n\\t&lt;row&gt;\\n\\n\\t\\t&lt;thread_id&gt;93&lt;/thre...</td>\n",
       "    </tr>\n",
       "    <tr>\n",
       "      <th>11</th>\n",
       "      <td>clean_xml_thread88.MN.infoadded.xml</td>\n",
       "      <td>88\\n\\nAnnotation for intention:\\n\\nKnowledge-A...</td>\n",
       "      <td>difference between &lt; 1% and pulling from publ...</td>\n",
       "      <td>&lt;custom&gt;\\n\\n\\t&lt;row&gt;\\n\\n\\t\\t&lt;thread_id&gt;88&lt;/thre...</td>\n",
       "    </tr>\n",
       "    <tr>\n",
       "      <th>12</th>\n",
       "      <td>clean_xml_thread65.MN.infoadded.xml</td>\n",
       "      <td>65\\nAnnotation for intention:\\n\\nKnowledge-Acq...</td>\n",
       "      <td>orry - xxx (below) was supposed to be replaced...</td>\n",
       "      <td>&lt;custom&gt;\\n\\n\\t&lt;row&gt;\\n\\n\\t\\t&lt;thread_id&gt;65&lt;/thre...</td>\n",
       "    </tr>\n",
       "    <tr>\n",
       "      <th>13</th>\n",
       "      <td>clean_xml_thread83.MN.infoadded.xml</td>\n",
       "      <td>83\\n\\nAnnotation for intention:\\n\\nKnowledge-A...</td>\n",
       "      <td>=\"Karen.Denne@ENRON.com\"/&gt;\\n\\n\\t&lt;to name=\"Mark...</td>\n",
       "      <td>&lt;custom&gt;\\n\\n\\t&lt;row&gt;\\n\\n\\t\\t&lt;thread_id&gt;83&lt;/thre...</td>\n",
       "    </tr>\n",
       "    <tr>\n",
       "      <th>14</th>\n",
       "      <td>clean_xml_thread101.MN.infoadded.xml</td>\n",
       "      <td>101\\nAnnotation for intention:\\n\\nExternal-eve...</td>\n",
       "      <td></td>\n",
       "      <td>&lt;custom&gt;\\n\\n\\t&lt;row&gt;\\n\\n\\t\\t&lt;thread_id&gt;101&lt;/thr...</td>\n",
       "    </tr>\n",
       "    <tr>\n",
       "      <th>15</th>\n",
       "      <td>clean_xml_thread90.MN.infoadded.xml</td>\n",
       "      <td>90\\nAnnotation for intention:\\n\\nKnowledge-Acq...</td>\n",
       "      <td></td>\n",
       "      <td>&lt;custom&gt;\\n\\n\\t&lt;row&gt;\\n\\n\\t\\t&lt;thread_id&gt;90&lt;/thre...</td>\n",
       "    </tr>\n",
       "    <tr>\n",
       "      <th>16</th>\n",
       "      <td>clean_xml_thread84.MN.infoadded.xml</td>\n",
       "      <td>84\\n\\nAnnotation for intention:\\n\\nExternal-ev...</td>\n",
       "      <td></td>\n",
       "      <td>&lt;custom&gt;\\n\\n\\t&lt;row&gt;\\n\\n\\t\\t&lt;thread_id&gt;84&lt;/thre...</td>\n",
       "    </tr>\n",
       "    <tr>\n",
       "      <th>17</th>\n",
       "      <td>clean_xml_thread106.MN.infoadded.xml</td>\n",
       "      <td>106\\nAnnotation for intention:\\n\\nKnowledge-Ac...</td>\n",
       "      <td></td>\n",
       "      <td>&lt;custom&gt;\\n\\n\\t&lt;row&gt;\\n\\n\\t\\t&lt;thread_id&gt;106&lt;/thr...</td>\n",
       "    </tr>\n",
       "    <tr>\n",
       "      <th>18</th>\n",
       "      <td>clean_xml_thread66.MN.infoadded.xml</td>\n",
       "      <td>66\\nAnnotation for intention:\\n\\nKnowledge-Acq...</td>\n",
       "      <td></td>\n",
       "      <td>&lt;custom&gt;\\n\\n\\t&lt;row&gt;\\n\\n\\t\\t&lt;thread_id&gt;66&lt;/thre...</td>\n",
       "    </tr>\n",
       "    <tr>\n",
       "      <th>19</th>\n",
       "      <td>clean_xml_thread102.MN.infoadded.xml</td>\n",
       "      <td>102\\nAnnotation for intention:\\n\\nCollaboratio...</td>\n",
       "      <td>at IF or Gas Daily.\\n\\nAttempt at Exercising ...</td>\n",
       "      <td>&lt;custom&gt;\\n\\n\\t&lt;row&gt;\\n\\n\\t\\t&lt;thread_id&gt;102&lt;/thr...</td>\n",
       "    </tr>\n",
       "    <tr>\n",
       "      <th>20</th>\n",
       "      <td>clean_xml_thread94.MN.infoadded.xml</td>\n",
       "      <td>94\\nAnnotation for intention:\\n\\nKnowledge-Acq...</td>\n",
       "      <td></td>\n",
       "      <td>&lt;custom&gt;\\n\\n\\t&lt;row&gt;\\n\\n\\t\\t&lt;thread_id&gt;94&lt;/thre...</td>\n",
       "    </tr>\n",
       "    <tr>\n",
       "      <th>21</th>\n",
       "      <td>clean_xml_thread72.MN.infoadded.xml</td>\n",
       "      <td>72\\nAnnotation for intention:\\n\\nArgumentation...</td>\n",
       "      <td></td>\n",
       "      <td>&lt;custom&gt;\\n\\n\\t&lt;row&gt;\\n\\n\\t\\t&lt;thread_id&gt;72&lt;/thre...</td>\n",
       "    </tr>\n",
       "    <tr>\n",
       "      <th>22</th>\n",
       "      <td>clean_xml_thread109.MN.infoadded.xml</td>\n",
       "      <td>109\\nAnnotation for intention:\\n\\nKnowledge-Ac...</td>\n",
       "      <td></td>\n",
       "      <td>&lt;custom&gt;\\n\\n\\t&lt;row&gt;\\n\\n\\t\\t&lt;thread_id&gt;109&lt;/thr...</td>\n",
       "    </tr>\n",
       "    <tr>\n",
       "      <th>23</th>\n",
       "      <td>clean_xml_thread91.MN.infoadded.xml</td>\n",
       "      <td>91\\nAnnotation for intention:\\n\\nCollaboration...</td>\n",
       "      <td></td>\n",
       "      <td>&lt;custom&gt;\\n\\n\\t&lt;row&gt;\\n\\n\\t\\t&lt;thread_id&gt;91&lt;/thre...</td>\n",
       "    </tr>\n",
       "    <tr>\n",
       "      <th>24</th>\n",
       "      <td>clean_xml_thread68.MN.infoadded.xml</td>\n",
       "      <td>68\\nAnnotation for intention:\\n\\nCollaboration...</td>\n",
       "      <td></td>\n",
       "      <td>&lt;custom&gt;\\n\\n\\t&lt;row&gt;\\n\\n\\t\\t&lt;thread_id&gt;68&lt;/thre...</td>\n",
       "    </tr>\n",
       "    <tr>\n",
       "      <th>25</th>\n",
       "      <td>clean_xml_thread85.MN.infoadded.xml</td>\n",
       "      <td>85\\nAnnotation for intention:\\n\\nKnowledge-Acq...</td>\n",
       "      <td></td>\n",
       "      <td>&lt;custom&gt;\\n\\n\\t&lt;row&gt;\\n\\n\\t\\t&lt;thread_id&gt;85&lt;/thre...</td>\n",
       "    </tr>\n",
       "    <tr>\n",
       "      <th>26</th>\n",
       "      <td>clean_xml_thread103.MN.infoadded.xml</td>\n",
       "      <td>103\\nAnnotation for intention:\\n\\nKnowledge-Ac...</td>\n",
       "      <td></td>\n",
       "      <td>&lt;custom&gt;\\n\\n\\t&lt;row&gt;\\n\\n\\t\\t&lt;thread_id&gt;103&lt;/thr...</td>\n",
       "    </tr>\n",
       "    <tr>\n",
       "      <th>27</th>\n",
       "      <td>clean_xml_thread81.MN.infoadded.xml</td>\n",
       "      <td>81\\nAnnotation for intention:\\n\\nCollaboration...</td>\n",
       "      <td>\\t\\t&lt;subject&gt;Existing Trading Track Rotations&lt;...</td>\n",
       "      <td>&lt;custom&gt;\\n\\n\\t&lt;row&gt;\\n\\n\\t\\t&lt;thread_id&gt;81&lt;/thre...</td>\n",
       "    </tr>\n",
       "    <tr>\n",
       "      <th>28</th>\n",
       "      <td>clean_xml_thread67.MN.infoadded.xml</td>\n",
       "      <td>67\\nAnnotation for intention:\\n\\nKnowledge-Acq...</td>\n",
       "      <td></td>\n",
       "      <td>&lt;custom&gt;\\n\\n\\t&lt;row&gt;\\n\\n\\t\\t&lt;thread_id&gt;67&lt;/thre...</td>\n",
       "    </tr>\n",
       "    <tr>\n",
       "      <th>29</th>\n",
       "      <td>clean_xml_thread108.MN.infoadded.xml</td>\n",
       "      <td>108\\nAnnotation for intention:\\n\\nKnowledge-Ac...</td>\n",
       "      <td></td>\n",
       "      <td>&lt;custom&gt;\\n\\n\\t&lt;row&gt;\\n\\n\\t\\t&lt;thread_id&gt;108&lt;/thr...</td>\n",
       "    </tr>\n",
       "    <tr>\n",
       "      <th>30</th>\n",
       "      <td>clean_xml_thread95.MN.infoadded.xml</td>\n",
       "      <td>95\\nAnnotation for intention:\\n\\nExternal-even...</td>\n",
       "      <td></td>\n",
       "      <td>&lt;custom&gt;\\n\\n\\t&lt;row&gt;\\n\\n\\t\\t&lt;thread_id&gt;95&lt;/thre...</td>\n",
       "    </tr>\n",
       "  </tbody>\n",
       "</table>\n",
       "</div>"
      ],
      "text/plain": [
       "                                filename  \\\n",
       "0    clean_xml_thread99.MN.infoadded.xml   \n",
       "1   clean_xml_thread104.MN.infoadded.xml   \n",
       "2    clean_xml_thread86.MN.infoadded.xml   \n",
       "3    clean_xml_thread92.MN.infoadded.xml   \n",
       "4    clean_xml_thread89.MN.infoadded.xml   \n",
       "5    clean_xml_thread96.MN.infoadded.xml   \n",
       "6   clean_xml_thread100.MN.infoadded.xml   \n",
       "7    clean_xml_thread82.MN.infoadded.xml   \n",
       "8   clean_xml_thread105.MN.infoadded.xml   \n",
       "9    clean_xml_thread98.MN.infoadded.xml   \n",
       "10   clean_xml_thread93.MN.infoadded.xml   \n",
       "11   clean_xml_thread88.MN.infoadded.xml   \n",
       "12   clean_xml_thread65.MN.infoadded.xml   \n",
       "13   clean_xml_thread83.MN.infoadded.xml   \n",
       "14  clean_xml_thread101.MN.infoadded.xml   \n",
       "15   clean_xml_thread90.MN.infoadded.xml   \n",
       "16   clean_xml_thread84.MN.infoadded.xml   \n",
       "17  clean_xml_thread106.MN.infoadded.xml   \n",
       "18   clean_xml_thread66.MN.infoadded.xml   \n",
       "19  clean_xml_thread102.MN.infoadded.xml   \n",
       "20   clean_xml_thread94.MN.infoadded.xml   \n",
       "21   clean_xml_thread72.MN.infoadded.xml   \n",
       "22  clean_xml_thread109.MN.infoadded.xml   \n",
       "23   clean_xml_thread91.MN.infoadded.xml   \n",
       "24   clean_xml_thread68.MN.infoadded.xml   \n",
       "25   clean_xml_thread85.MN.infoadded.xml   \n",
       "26  clean_xml_thread103.MN.infoadded.xml   \n",
       "27   clean_xml_thread81.MN.infoadded.xml   \n",
       "28   clean_xml_thread67.MN.infoadded.xml   \n",
       "29  clean_xml_thread108.MN.infoadded.xml   \n",
       "30   clean_xml_thread95.MN.infoadded.xml   \n",
       "\n",
       "                                       top_annotation  \\\n",
       "0   99\\nAnnotation for intention:\\n\\nExternal-even...   \n",
       "1   104\\nAnnotation for intention:\\n\\nArgumentatio...   \n",
       "2   86\\n\\nAnnotation for intention:\\n\\nArgumentati...   \n",
       "3   92\\nAnnotation for intention:\\nArgumentation: ...   \n",
       "4   89\\n\\nAnnotation for intention:\\n\\nExternal-ev...   \n",
       "5   96\\nAnnotation for intention:\\n\\nKnowledge-Acq...   \n",
       "6   100\\nAnnotation for intention:\\n\\nExternal-eve...   \n",
       "7   82\\n\\nAnnotation for intention:\\n\\nKnowledge-A...   \n",
       "8   105\\nAnnotation for intention:\\n\\nCollaboratio...   \n",
       "9   98\\nAnnotation for intention:\\n\\nExternal-even...   \n",
       "10  93\\nAnnotation for intention:\\n\\nArgumentation...   \n",
       "11  88\\n\\nAnnotation for intention:\\n\\nKnowledge-A...   \n",
       "12  65\\nAnnotation for intention:\\n\\nKnowledge-Acq...   \n",
       "13  83\\n\\nAnnotation for intention:\\n\\nKnowledge-A...   \n",
       "14  101\\nAnnotation for intention:\\n\\nExternal-eve...   \n",
       "15  90\\nAnnotation for intention:\\n\\nKnowledge-Acq...   \n",
       "16  84\\n\\nAnnotation for intention:\\n\\nExternal-ev...   \n",
       "17  106\\nAnnotation for intention:\\n\\nKnowledge-Ac...   \n",
       "18  66\\nAnnotation for intention:\\n\\nKnowledge-Acq...   \n",
       "19  102\\nAnnotation for intention:\\n\\nCollaboratio...   \n",
       "20  94\\nAnnotation for intention:\\n\\nKnowledge-Acq...   \n",
       "21  72\\nAnnotation for intention:\\n\\nArgumentation...   \n",
       "22  109\\nAnnotation for intention:\\n\\nKnowledge-Ac...   \n",
       "23  91\\nAnnotation for intention:\\n\\nCollaboration...   \n",
       "24  68\\nAnnotation for intention:\\n\\nCollaboration...   \n",
       "25  85\\nAnnotation for intention:\\n\\nKnowledge-Acq...   \n",
       "26  103\\nAnnotation for intention:\\n\\nKnowledge-Ac...   \n",
       "27  81\\nAnnotation for intention:\\n\\nCollaboration...   \n",
       "28  67\\nAnnotation for intention:\\n\\nKnowledge-Acq...   \n",
       "29  108\\nAnnotation for intention:\\n\\nKnowledge-Ac...   \n",
       "30  95\\nAnnotation for intention:\\n\\nExternal-even...   \n",
       "\n",
       "                                    bottom_annotation  \\\n",
       "0                                                       \n",
       "1   \\n\\nHierarchical Power Annotation:\\nPerson_1: ...   \n",
       "2                                                       \n",
       "3                                                       \n",
       "4   address=\"Matt.Smith@ENRON.com\"/>\\n\\n\\t<from na...   \n",
       "5                                                       \n",
       "6                                                       \n",
       "7                                                       \n",
       "8                                                       \n",
       "9                                                       \n",
       "10                                                      \n",
       "11   difference between < 1% and pulling from publ...   \n",
       "12  orry - xxx (below) was supposed to be replaced...   \n",
       "13  =\"Karen.Denne@ENRON.com\"/>\\n\\n\\t<to name=\"Mark...   \n",
       "14                                                      \n",
       "15                                                      \n",
       "16                                                      \n",
       "17                                                      \n",
       "18                                                      \n",
       "19   at IF or Gas Daily.\\n\\nAttempt at Exercising ...   \n",
       "20                                                      \n",
       "21                                                      \n",
       "22                                                      \n",
       "23                                                      \n",
       "24                                                      \n",
       "25                                                      \n",
       "26                                                      \n",
       "27  \\t\\t<subject>Existing Trading Track Rotations<...   \n",
       "28                                                      \n",
       "29                                                      \n",
       "30                                                      \n",
       "\n",
       "                                                  XML  \n",
       "0   <custom>\\n\\n\\t<row>\\n\\n\\t\\t<thread_id>99</thre...  \n",
       "1   <custom>\\n\\n\\t<row>\\n\\n\\t\\t<thread_id>104</thr...  \n",
       "2   <custom>\\n\\n\\t<row>\\n\\n\\t\\t<thread_id>86</thre...  \n",
       "3   <custom>\\n\\n\\t<row>\\n\\n\\t\\t<thread_id>92</thre...  \n",
       "4   <custom>\\n\\n\\t<row>\\n\\n\\t\\t<thread_id>89</thre...  \n",
       "5   <custom>\\n\\n\\t<row>\\n\\n\\t\\t<thread_id>96</thre...  \n",
       "6   <custom>\\n\\n\\t<row>\\n\\n\\t\\t<thread_id>100</thr...  \n",
       "7   <custom>\\n\\n\\t<row>\\n\\n\\t\\t<thread_id>82</thre...  \n",
       "8   <custom>\\n\\n\\t<row>\\n\\n\\t\\t<thread_id>105</thr...  \n",
       "9   <custom>\\n\\n\\t<row>\\n\\n\\t\\t<thread_id>98</thre...  \n",
       "10  <custom>\\n\\n\\t<row>\\n\\n\\t\\t<thread_id>93</thre...  \n",
       "11  <custom>\\n\\n\\t<row>\\n\\n\\t\\t<thread_id>88</thre...  \n",
       "12  <custom>\\n\\n\\t<row>\\n\\n\\t\\t<thread_id>65</thre...  \n",
       "13  <custom>\\n\\n\\t<row>\\n\\n\\t\\t<thread_id>83</thre...  \n",
       "14  <custom>\\n\\n\\t<row>\\n\\n\\t\\t<thread_id>101</thr...  \n",
       "15  <custom>\\n\\n\\t<row>\\n\\n\\t\\t<thread_id>90</thre...  \n",
       "16  <custom>\\n\\n\\t<row>\\n\\n\\t\\t<thread_id>84</thre...  \n",
       "17  <custom>\\n\\n\\t<row>\\n\\n\\t\\t<thread_id>106</thr...  \n",
       "18  <custom>\\n\\n\\t<row>\\n\\n\\t\\t<thread_id>66</thre...  \n",
       "19  <custom>\\n\\n\\t<row>\\n\\n\\t\\t<thread_id>102</thr...  \n",
       "20  <custom>\\n\\n\\t<row>\\n\\n\\t\\t<thread_id>94</thre...  \n",
       "21  <custom>\\n\\n\\t<row>\\n\\n\\t\\t<thread_id>72</thre...  \n",
       "22  <custom>\\n\\n\\t<row>\\n\\n\\t\\t<thread_id>109</thr...  \n",
       "23  <custom>\\n\\n\\t<row>\\n\\n\\t\\t<thread_id>91</thre...  \n",
       "24  <custom>\\n\\n\\t<row>\\n\\n\\t\\t<thread_id>68</thre...  \n",
       "25  <custom>\\n\\n\\t<row>\\n\\n\\t\\t<thread_id>85</thre...  \n",
       "26  <custom>\\n\\n\\t<row>\\n\\n\\t\\t<thread_id>103</thr...  \n",
       "27  <custom>\\n\\n\\t<row>\\n\\n\\t\\t<thread_id>81</thre...  \n",
       "28  <custom>\\n\\n\\t<row>\\n\\n\\t\\t<thread_id>67</thre...  \n",
       "29  <custom>\\n\\n\\t<row>\\n\\n\\t\\t<thread_id>108</thr...  \n",
       "30  <custom>\\n\\n\\t<row>\\n\\n\\t\\t<thread_id>95</thre...  "
      ]
     },
     "execution_count": 83,
     "metadata": {},
     "output_type": "execute_result"
    }
   ],
   "source": [
    "#df.to_csv('separat\\ed_Data.csv')\n",
    "df"
   ]
  },
  {
   "cell_type": "code",
   "execution_count": 52,
   "metadata": {
    "colab": {
     "base_uri": "https://localhost:8080/",
     "height": 844
    },
    "colab_type": "code",
    "id": "GywrYq3vpNqd",
    "outputId": "201a22da-20a9-4044-b814-25d26a45383c"
   },
   "outputs": [],
   "source": [
    "#df.to_csv('separated_Data.csv')"
   ]
  },
  {
   "cell_type": "markdown",
   "metadata": {
    "colab": {},
    "colab_type": "code",
    "id": "Y3rWUPsfOK0C"
   },
   "source": [
    "### Cleaning data further"
   ]
  },
  {
   "cell_type": "markdown",
   "metadata": {},
   "source": [
    "##### 1. MTags for example M3.6. and M3.10"
   ]
  },
  {
   "cell_type": "code",
   "execution_count": 64,
   "metadata": {},
   "outputs": [],
   "source": [
    "path = \"Clean XML files/\"\n",
    "name = 'clean_xml_thread65.MN.infoadded.xml'\n",
    "f = open(path  + name)\n",
    "data = f.read()\n",
    "f.close()\n",
    "\n",
    "# removing mtags\n",
    "sansMTags1 = re.sub('M[\\d]?\\.[\\d]+\\.', '' , data)\n",
    "sansMTags2 = re.sub('M[\\d]?\\.[\\d]+', '', sansMTags1)\n",
    "\n",
    "#successfully tested\n",
    "\n",
    "sansBracketComments = re.sub('\\[.+\\]', '' , sansMTags2)\n",
    "\n",
    "#write\n",
    "name = 'test_sansMtag2.txt'\n",
    "writeFile(name, sansBracketComments)"
   ]
  },
  {
   "cell_type": "code",
   "execution_count": 65,
   "metadata": {},
   "outputs": [
    {
     "data": {
      "text/plain": [
       "\"<content>\\n\\n Andy,\\n\\n\\n\\n\\n\\n Attached are some ideas for possible charge structures for EnronOnline.\\n\\n I am recommending something which will probably be surprising, given our conversation.\\n\\n Let's discuss when you have a moment.\\n\\n\\n\\n\\n\\n Dave\\n\\n\\n\\n\\n\\n\\n\\n Recommendation\\n\\n\\n\\n\\n\\n a) For new commodity areas, continue to charge a set up fee in accordance with our previously agreed schedule.\\n\\n (e.g. $350,000 for new Market Area)\\n\\n\\n\\nSflink1.8\\n\\n\\n\\n b) Charge a per-volume maintenance fee which is comparable to industry brokerage fees,\\n\\n with a minimum charge equivalent to $4,000 per Product * Total number of Products).\\n\\n\\n\\nSflink1.10\\n\\n\\n\\n This method results in a total charge of approx. $46.5 million pa.\\n\\n (providing coverage for existing charges, some growth and London's charges)\\n\\n\\n\\n\\n\\n This method is recommended because it balances a fee to reflect real expenditure of effort on behalf on Enron Online staff (the per Product minimum)\\n\\n with a structure which is recognizeable (and hopefully more easily sold) to the traders.\\n\\n\\n\\n\\n\\n This structure is primarily not cost-driven, but is value-driven;\\n\\n those who derive the greatest value pay the highest costs.\\n\\n\\n\\n\\n\\n\\n\\n\\n\\n Example Charges\\n\\n\\n\\n\\n\\n Here are some example charges if we use the recommended method:\\n\\n\\n\\n\\n\\n Commodity\\t\\t\\tCharge\\n\\n\\n\\nUS Nat Gas\\t\\t\\t$24,282,875\\n\\nUS Power\\t\\t\\t$  5,163,563\\n\\nMetals\\t\\t\\t\\t$  5,798,144\\n\\nCrude &amp; Products\\t\\t$  3,578,560\\n\\nNorwegian Power\\t\\t$     380,869\\n\\nGlobal Credit\\t\\t\\t$     400,000\\n\\nCoal\\t\\t\\t\\t$     966,265\\n\\nBandwidth \\t\\t\\t$     312,000\\n\\n\\n\\n\\n\\n Or, by Group:\\n\\n\\n\\nENA\\t\\t$30,647,772\\n\\nEEL\\t\\t$  8,774,844\\n\\nEGM\\t\\t$  6,741,955\\n\\nEIM\\t\\t$     106,250\\n\\nEBS\\t\\t$     312,000\\n\\nTotal:\\t\\t$46,582,821\\n\\n\\n\\n\\n\\n Sensitivity\\n\\n\\n\\n\\n\\n With the recommended structure, if transactions for 2001 are:\\n\\n\\n\\n\\n\\n a) The same as the last half of 2000 * 2, then we recover approx. $46 million.\\n\\n\\n\\n\\n\\n b) Double, then we recover approx. $90 million\\n\\n\\n\\n\\n\\n c) Half, then we recover approx.$24 million\\n\\n\\n\\n\\n\\n c) Zero, then we recover approx. $6.4 million\\n\\n\\n\\n\\n\\n\\n\\n Alternatives - Basic Structure\\n\\n\\n\\n\\n\\n Any of the following could be combined to create additional alternatives:\\n\\n\\n\\n\\n\\n Alternative 1: As per the recommended structure, but charge a flat per-transaction fee instead of a per volume fee. This would result in a charge of $xx per transaction.\\n\\n\\n\\nSflink1.29\\n\\n\\n\\n Alternative 2: Charge by Product Types (we currently have 358, so full charge would be approx. $112,000 per Product Type)\\n\\n\\n\\n\\n\\n Alternative 3: Charge by Products (we currently have 1500 per day, so full charge would be approx. $27,000 per Product)\\n\\n\\n\\n\\n\\n Alternative 4: Charge by Country/Commodity (we currently have 61, so full charge would be approx. $656,000 per Country/Commodity)\\n\\n\\n\\n\\n\\n Alternative 5: Use the same methodology as currently used for the cost allocation (55% of cost allocation based on number of transactions and 45% based on Country/Commodity Markets Served) This would result in transaction charges of approx. xxx per transaction and $295,000 per Market served.\\n\\n\\n\\n\\n\\n\\n\\n Alternatives - Different Structures\\n\\n\\n\\n\\n\\n Alternative 5: Separate Marketing costs and charge directly to business units based on activity\\n\\n\\n\\n\\n\\n Alternative 6: Separate Development costs as a separate item not covered by the basic charge structure, but recovered solely through increases in EnronOnline business.\\n\\n\\n\\n\\n\\n</content>\""
      ]
     },
     "execution_count": 65,
     "metadata": {},
     "output_type": "execute_result"
    }
   ],
   "source": [
    "sObj = re.search('<content>(.|\\n)*?\\<\\/content>', sansBracketComments)\n",
    "#separatedXML = re.search('<custom>(.|\\n)*?<\\/custom>', v).group(0)\n",
    "sObj.group(0)"
   ]
  },
  {
   "cell_type": "markdown",
   "metadata": {},
   "source": [
    "### Extracting body of message"
   ]
  },
  {
   "cell_type": "code",
   "execution_count": 66,
   "metadata": {},
   "outputs": [
    {
     "data": {
      "text/plain": [
       "\"<content>\\n\\n Andy,\\n\\n\\n\\n\\n\\n Attached are some ideas for possible charge structures for EnronOnline.\\n\\n I am recommending something which will probably be surprising, given our conversation.\\n\\n Let's discuss when you have a moment.\\n\\n\\n\\n\\n\\n Dave\\n\\n\\n\\n\\n\\n\\n\\n Recommendation\\n\\n\\n\\n\\n\\n a) For new commodity areas, continue to charge a set up fee in accordance with our previously agreed schedule.\\n\\n (e.g. $350,000 for new Market Area)\\n\\n\\n\\nSflink1.8\\n\\n\\n\\n b) Charge a per-volume maintenance fee which is comparable to industry brokerage fees,\\n\\n with a minimum charge equivalent to $4,000 per Product * Total number of Products).\\n\\n\\n\\nSflink1.10\\n\\n\\n\\n This method results in a total charge of approx. $46.5 million pa.\\n\\n (providing coverage for existing charges, some growth and London's charges)\\n\\n\\n\\n\\n\\n This method is recommended because it balances a fee to reflect real expenditure of effort on behalf on Enron Online staff (the per Product minimum)\\n\\n with a structure which is recognizeable (and hopefully more easily sold) to the traders.\\n\\n\\n\\n\\n\\n This structure is primarily not cost-driven, but is value-driven;\\n\\n those who derive the greatest value pay the highest costs.\\n\\n\\n\\n\\n\\n\\n\\n\\n\\n Example Charges\\n\\n\\n\\n\\n\\n Here are some example charges if we use the recommended method:\\n\\n\\n\\n\\n\\n Commodity\\t\\t\\tCharge\\n\\n\\n\\nUS Nat Gas\\t\\t\\t$24,282,875\\n\\nUS Power\\t\\t\\t$  5,163,563\\n\\nMetals\\t\\t\\t\\t$  5,798,144\\n\\nCrude &amp; Products\\t\\t$  3,578,560\\n\\nNorwegian Power\\t\\t$     380,869\\n\\nGlobal Credit\\t\\t\\t$     400,000\\n\\nCoal\\t\\t\\t\\t$     966,265\\n\\nBandwidth \\t\\t\\t$     312,000\\n\\n\\n\\n\\n\\n Or, by Group:\\n\\n\\n\\nENA\\t\\t$30,647,772\\n\\nEEL\\t\\t$  8,774,844\\n\\nEGM\\t\\t$  6,741,955\\n\\nEIM\\t\\t$     106,250\\n\\nEBS\\t\\t$     312,000\\n\\nTotal:\\t\\t$46,582,821\\n\\n\\n\\n\\n\\n Sensitivity\\n\\n\\n\\n\\n\\n With the recommended structure, if transactions for 2001 are:\\n\\n\\n\\n\\n\\n a) The same as the last half of 2000 * 2, then we recover approx. $46 million.\\n\\n\\n\\n\\n\\n b) Double, then we recover approx. $90 million\\n\\n\\n\\n\\n\\n c) Half, then we recover approx.$24 million\\n\\n\\n\\n\\n\\n c) Zero, then we recover approx. $6.4 million\\n\\n\\n\\n\\n\\n\\n\\n Alternatives - Basic Structure\\n\\n\\n\\n\\n\\n Any of the following could be combined to create additional alternatives:\\n\\n\\n\\n\\n\\n Alternative 1: As per the recommended structure, but charge a flat per-transaction fee instead of a per volume fee. This would result in a charge of $xx per transaction.\\n\\n\\n\\nSflink1.29\\n\\n\\n\\n Alternative 2: Charge by Product Types (we currently have 358, so full charge would be approx. $112,000 per Product Type)\\n\\n\\n\\n\\n\\n Alternative 3: Charge by Products (we currently have 1500 per day, so full charge would be approx. $27,000 per Product)\\n\\n\\n\\n\\n\\n Alternative 4: Charge by Country/Commodity (we currently have 61, so full charge would be approx. $656,000 per Country/Commodity)\\n\\n\\n\\n\\n\\n Alternative 5: Use the same methodology as currently used for the cost allocation (55% of cost allocation based on number of transactions and 45% based on Country/Commodity Markets Served) This would result in transaction charges of approx. xxx per transaction and $295,000 per Market served.\\n\\n\\n\\n\\n\\n\\n\\n Alternatives - Different Structures\\n\\n\\n\\n\\n\\n Alternative 5: Separate Marketing costs and charge directly to business units based on activity\\n\\n\\n\\n\\n\\n Alternative 6: Separate Development costs as a separate item not covered by the basic charge structure, but recovered solely through increases in EnronOnline business.\\n\\n\\n\\n\\n\\n</content><content>\\n\\n\\n\\n Okay. good start.\\n\\n\\n\\n\\n\\n I like the idea of a minimum for each product,\\n\\n\\n\\nBlink1.10\\n\\n\\n\\n and I like staying with existing structure for new products.\\n\\n\\n\\nBlink1.8\\n\\n\\n\\n Let's look at alternative 1, the flat fee per trade,\\n\\n and see what it would need to be to yield $35mm in revs based on average tradecount YTD,\\n\\n i.e. extraplolate that out for rest of year for a pro forma. \\n\\n\\n\\nBlink1.29\\n\\nSflink2.6\\n\\n\\n\\n Thoughts ?\\n\\n\\n\\nFlink2.7\\n\\n\\n\\n</content><content>\\n\\n\\n\\n Sorry - xxx (below) was supposed to be replaced with $54.50 per transaction,\\n\\n which is based on 2 * the July00-Dec00 transaction count.\\n\\n Note this results in $40 million of recovery, which includes Amita's costs.\\n\\n\\n\\nBlink1.29\\n\\n\\n\\n If you just look at $35 million recovery, the per-transaction fee is $47.68.\\n\\n\\n\\nBlink2.6\\n\\n\\n\\n This structure has the advantage that it is a little closer to the current cost allocation methodology,\\n\\n but this methodology is not well known by the business units.\\n\\n\\n\\n\\n\\n I actually started drafting this email with Alternative 1 as the recommendation,\\n\\n but decided that if we have to sell this internally, the brokerage lookalike structure would be easer to sell and defend.\\n\\n\\n\\n\\n\\n Dave\\n\\n\\n\\n\\n\\n</content><content>\\n\\n\\n\\n Could you send me the commission numbers used for each of the major products in your volume based approach . \\n\\n\\n\\nFlink4.1\\n\\n\\n\\n</content><content>\\n\\n Sure.\\n\\n\\n\\nBlink4.1\\n\\n\\n\\n These are actually taken directly from the spreadsheet which Mike Bridges prepared several months ago.\\n\\n\\n\\n\\n\\n If this is a route you want to pursue, we should first verify each of the numbers as current.\\n\\n\\n\\n\\n\\n Dave\\n\\n\\n\\n\\n\\n</content>\""
      ]
     },
     "execution_count": 66,
     "metadata": {},
     "output_type": "execute_result"
    }
   ],
   "source": [
    "emailBodys = []\n",
    "i = re.finditer('<content>(.|\\n)*?\\<\\/content>', sansBracketComments)\n",
    "for each in i:\n",
    "    emailBodys.append(each.group(0))\n",
    "\n",
    "body = ''\n",
    "for text in emailBodys:\n",
    "    body = body + text\n",
    "body"
   ]
  },
  {
   "cell_type": "code",
   "execution_count": 67,
   "metadata": {},
   "outputs": [
    {
     "name": "stdout",
     "output_type": "stream",
     "text": [
      "David Forster\n",
      "David Forster\n",
      "David Forster\n",
      "David Forster\n",
      "David Forster\n",
      "David Forster\n"
     ]
    }
   ],
   "source": [
    "#Fetching the 'from' tags\n",
    "import xml.etree.ElementTree as ET\n",
    "tree = ET.ElementTree(ET.fromstring(data))\n",
    "root = tree.getroot()\n",
    "\n",
    "for something in root.iter(tag='from'):\n",
    "    print(something.get('name'))"
   ]
  },
  {
   "cell_type": "code",
   "execution_count": 76,
   "metadata": {},
   "outputs": [
    {
     "name": "stdout",
     "output_type": "stream",
     "text": [
      "106860\n",
      "2000020\n",
      "106859\n",
      "2000021\n",
      "106858\n"
     ]
    }
   ],
   "source": [
    "\n",
    "for something in root.iter(tag='message_id'):\n",
    "    print(something.text)"
   ]
  },
  {
   "cell_type": "code",
   "execution_count": null,
   "metadata": {},
   "outputs": [],
   "source": []
  }
 ],
 "metadata": {
  "colab": {
   "name": "NLP_EDA.ipynb",
   "provenance": [],
   "version": "0.3.2"
  },
  "kernelspec": {
   "display_name": "Python 3",
   "language": "python",
   "name": "python3"
  },
  "language_info": {
   "codemirror_mode": {
    "name": "ipython",
    "version": 3
   },
   "file_extension": ".py",
   "mimetype": "text/x-python",
   "name": "python",
   "nbconvert_exporter": "python",
   "pygments_lexer": "ipython3",
   "version": "3.6.5"
  }
 },
 "nbformat": 4,
 "nbformat_minor": 1
}
