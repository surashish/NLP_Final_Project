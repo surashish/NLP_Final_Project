{
 "cells": [
  {
   "cell_type": "code",
   "execution_count": 1,
   "metadata": {
    "colab": {},
    "colab_type": "code",
    "id": "lpu55MqWu_7o"
   },
   "outputs": [],
   "source": [
    "import numpy as np\n",
    "import matplotlib as plt\n",
    "import pandas as pd\n",
    "import xml.etree.ElementTree as ET\n",
    "import io\n",
    "#!pip install -U -q PyDrive\n",
    "import os\n",
    "# from pydrive.auth import GoogleAuth\n",
    "# from pydrive.drive import GoogleDrive\n",
    "# from google.colab import auth\n",
    "# from oauth2client.client import GoogleCredentials"
   ]
  },
  {
   "cell_type": "markdown",
   "metadata": {
    "colab_type": "text",
    "id": "yiQCTh-ycRiA"
   },
   "source": [
    "**Working import of a sample xml file from colab/drive**"
   ]
  },
  {
   "cell_type": "code",
   "execution_count": 2,
   "metadata": {
    "colab": {
     "base_uri": "https://localhost:8080/",
     "height": 34
    },
    "colab_type": "code",
    "id": "T7tyORUTyJTf",
    "outputId": "881ccf3e-6fe6-4150-aed8-427fe6739c1f"
   },
   "outputs": [],
   "source": [
    "# ##Note: if you are updating a file, re-run this cell to update the image of drive\n",
    "\n",
    "# # 1. Authenticate and create the PyDrive client.\n",
    "# auth.authenticate_user()\n",
    "# gauth = GoogleAuth()\n",
    "# gauth.credentials = GoogleCredentials.get_application_default()\n",
    "# drive = GoogleDrive(gauth)\n",
    "\n",
    "# # 2.  mount the google drive into colab. Now you can use terminal commmands like\n",
    "# #     !ls, !pwd, etc to navigate to your files. You should get a message like \n",
    "# #     'Drive already mounted' or, it will ask you to authenticate with google.\n",
    "# from google.colab import drive\n",
    "# drive.mount('/content/drive/', force_remount=True)\n",
    "\n"
   ]
  },
  {
   "cell_type": "markdown",
   "metadata": {
    "colab_type": "text",
    "id": "21eCrL0sdipH"
   },
   "source": [
    " **Importing annotation file**"
   ]
  },
  {
   "cell_type": "markdown",
   "metadata": {
    "colab_type": "text",
    "id": "TIMfD2xUreWj"
   },
   "source": [
    "**Extracting top and bottom text annotation, and separate the XML **"
   ]
  },
  {
   "cell_type": "code",
   "execution_count": 3,
   "metadata": {},
   "outputs": [],
   "source": [
    "mypath = 'PowerAnnotations_V1.0/AnnotatedThreads/non train/'\n",
    "#listdir(mypath)"
   ]
  },
  {
   "cell_type": "code",
   "execution_count": 4,
   "metadata": {
    "colab": {
     "base_uri": "https://localhost:8080/",
     "height": 544
    },
    "colab_type": "code",
    "id": "Op-G0m9ZxL6I",
    "outputId": "65fd804c-a40a-41d0-f0d3-7387334eac17"
   },
   "outputs": [
    {
     "data": {
      "text/plain": [
       "['thread99.MN.infoadded.xml',\n",
       " 'thread104.MN.infoadded.xml',\n",
       " 'thread86.MN.infoadded.xml',\n",
       " 'thread92.MN.infoadded.xml',\n",
       " 'thread89.MN.infoadded.xml',\n",
       " 'thread96.MN.infoadded.xml',\n",
       " 'thread100.MN.infoadded.xml',\n",
       " 'thread82.MN.infoadded.xml',\n",
       " 'thread105.MN.infoadded.xml',\n",
       " 'thread98.MN.infoadded.xml',\n",
       " 'thread93.MN.infoadded.xml',\n",
       " 'thread88.MN.infoadded.xml',\n",
       " 'thread65.MN.infoadded.xml',\n",
       " 'thread83.MN.infoadded.xml',\n",
       " 'thread101.MN.infoadded.xml',\n",
       " 'thread90.MN.infoadded.xml',\n",
       " 'thread84.MN.infoadded.xml',\n",
       " 'thread106.MN.infoadded.xml',\n",
       " 'thread66.MN.infoadded.xml',\n",
       " 'thread102.MN.infoadded.xml',\n",
       " 'thread94.MN.infoadded.xml',\n",
       " 'thread72.MN.infoadded.xml',\n",
       " 'thread109.MN.infoadded.xml',\n",
       " 'thread91.MN.infoadded.xml',\n",
       " 'thread68.MN.infoadded.xml',\n",
       " 'thread85.MN.infoadded.xml',\n",
       " 'thread103.MN.infoadded.xml',\n",
       " 'thread81.MN.infoadded.xml',\n",
       " 'thread67.MN.infoadded.xml',\n",
       " 'thread108.MN.infoadded.xml',\n",
       " 'thread95.MN.infoadded.xml']"
      ]
     },
     "execution_count": 4,
     "metadata": {},
     "output_type": "execute_result"
    }
   ],
   "source": [
    "# get all files in folder.\n",
    "\n",
    "from os import listdir\n",
    "from os.path import isfile, join\n",
    "filesInDir = [f for f in listdir(mypath) if (isfile(join(mypath, f)) and f[-4:] == '.xml')]\n",
    "filesInDir"
   ]
  },
  {
   "cell_type": "code",
   "execution_count": 5,
   "metadata": {
    "colab": {},
    "colab_type": "code",
    "id": "Yym3Qwx85fiA"
   },
   "outputs": [],
   "source": [
    "data = {}\n",
    "for i, f in enumerate(filesInDir):\n",
    "    file = open(mypath + f, 'r' , encoding=\"ISO-8859-1\")\n",
    "    data[f] = file.read()\n",
    "  \n",
    "  \n"
   ]
  },
  {
   "cell_type": "code",
   "execution_count": 6,
   "metadata": {},
   "outputs": [],
   "source": [
    "def writeFile(name, data):\n",
    "    fw = open(name, \"w+\")\n",
    "    fw.write(data)\n",
    "    fw.close()\n",
    "    return"
   ]
  },
  {
   "cell_type": "code",
   "execution_count": 7,
   "metadata": {
    "colab": {},
    "colab_type": "code",
    "id": "qqSC10mKh-9U"
   },
   "outputs": [],
   "source": [
    "#read each file in directory, then extract top & bottom annotations, amd XML. \n",
    "# Write xml to a separate dir.\n",
    "import re\n",
    "df = pd.DataFrame(columns = ['filename', 'top_annotation', 'bottom_annotation'])\n",
    "  \n",
    "rownum = 0\n",
    "topAnno = []\n",
    "bottomAnno = []\n",
    "xmlfilename = []\n",
    "#separatedXML = []\n",
    "for k, v in data.items():\n",
    "    searchObj = re.search('<custom>(.|\\n)*?<\\/custom>', v)\n",
    "    separatedXML = re.search('<custom>(.|\\n)*?<\\/custom>', v).group(0)\n",
    "    (startOfXML, endOfXML) = searchObj.span()\n",
    "    topAnno.append(v[:startOfXML])\n",
    "    bottomAnno.append(v[endOfXML:])\n",
    "    xmlfilename.append('clean_xml_' + k)\n",
    "\n",
    "    name = 'clean_xml_' + k + '.txt'\n",
    "    writeFile(name, separatedXML)\n",
    "\n",
    "df['filename'] = pd.Series(xmlfilename)\n",
    "df['top_annotation'] = pd.Series(topAnno)\n",
    "df['bottom_annotation'] = pd.Series(bottomAnno)\n",
    "df['XML'] = pd.Series(separatedXML)"
   ]
  },
  {
   "cell_type": "code",
   "execution_count": 24,
   "metadata": {
    "colab": {
     "base_uri": "https://localhost:8080/",
     "height": 1010
    },
    "colab_type": "code",
    "id": "xyBNx2Nfn4cR",
    "outputId": "c0eaf51a-5d74-447a-be29-a98eb804d8a8"
   },
   "outputs": [
    {
     "data": {
      "text/html": [
       "<div>\n",
       "<style scoped>\n",
       "    .dataframe tbody tr th:only-of-type {\n",
       "        vertical-align: middle;\n",
       "    }\n",
       "\n",
       "    .dataframe tbody tr th {\n",
       "        vertical-align: top;\n",
       "    }\n",
       "\n",
       "    .dataframe thead th {\n",
       "        text-align: right;\n",
       "    }\n",
       "</style>\n",
       "<table border=\"1\" class=\"dataframe\">\n",
       "  <thead>\n",
       "    <tr style=\"text-align: right;\">\n",
       "      <th></th>\n",
       "      <th>filename</th>\n",
       "      <th>top_annotation</th>\n",
       "      <th>bottom_annotation</th>\n",
       "    </tr>\n",
       "  </thead>\n",
       "  <tbody>\n",
       "    <tr>\n",
       "      <th>0</th>\n",
       "      <td>clean_xml_thread99.MN.infoadded.xml</td>\n",
       "      <td>99\\nAnnotation for intention:\\n\\nExternal-even...</td>\n",
       "      <td>\\n\\nHierarchical Power Annotation: N/A\\nPerson...</td>\n",
       "    </tr>\n",
       "    <tr>\n",
       "      <th>1</th>\n",
       "      <td>clean_xml_thread104.MN.infoadded.xml</td>\n",
       "      <td>104\\nAnnotation for intention:\\n\\nArgumentatio...</td>\n",
       "      <td>\\n\\nHierarchical Power Annotation:\\nPerson_1: ...</td>\n",
       "    </tr>\n",
       "    <tr>\n",
       "      <th>2</th>\n",
       "      <td>clean_xml_thread86.MN.infoadded.xml</td>\n",
       "      <td>86\\n\\nAnnotation for intention:\\n\\nArgumentati...</td>\n",
       "      <td>\\n\\n\\nHierarchical Power Annotation: N/A\\nPers...</td>\n",
       "    </tr>\n",
       "    <tr>\n",
       "      <th>3</th>\n",
       "      <td>clean_xml_thread92.MN.infoadded.xml</td>\n",
       "      <td>92\\nAnnotation for intention:\\nArgumentation: ...</td>\n",
       "      <td>\\n\\nHierarchical Power Annotation: N/A\\nPerson...</td>\n",
       "    </tr>\n",
       "    <tr>\n",
       "      <th>4</th>\n",
       "      <td>clean_xml_thread89.MN.infoadded.xml</td>\n",
       "      <td>89\\n\\nAnnotation for intention:\\n\\nExternal-ev...</td>\n",
       "      <td>\\n\\n\\nHierarchical Power Annotation: N/A\\nPers...</td>\n",
       "    </tr>\n",
       "    <tr>\n",
       "      <th>5</th>\n",
       "      <td>clean_xml_thread96.MN.infoadded.xml</td>\n",
       "      <td>96\\nAnnotation for intention:\\n\\nKnowledge-Acq...</td>\n",
       "      <td>\\n\\nHierarchical Power Annotation: N/A\\nPerson...</td>\n",
       "    </tr>\n",
       "    <tr>\n",
       "      <th>6</th>\n",
       "      <td>clean_xml_thread100.MN.infoadded.xml</td>\n",
       "      <td>100\\nAnnotation for intention:\\n\\nExternal-eve...</td>\n",
       "      <td>\\n\\nHierarchical Power Annotation: N/A\\nPerson...</td>\n",
       "    </tr>\n",
       "    <tr>\n",
       "      <th>7</th>\n",
       "      <td>clean_xml_thread82.MN.infoadded.xml</td>\n",
       "      <td>82\\n\\nAnnotation for intention:\\n\\nKnowledge-A...</td>\n",
       "      <td>\\n\\n\\nHierarchical Power Annotation: N/A\\nPers...</td>\n",
       "    </tr>\n",
       "    <tr>\n",
       "      <th>8</th>\n",
       "      <td>clean_xml_thread105.MN.infoadded.xml</td>\n",
       "      <td>105\\nAnnotation for intention:\\n\\nCollaboratio...</td>\n",
       "      <td>\\n\\nHierarchical Power Annotation: N/A\\nPerson...</td>\n",
       "    </tr>\n",
       "    <tr>\n",
       "      <th>9</th>\n",
       "      <td>clean_xml_thread98.MN.infoadded.xml</td>\n",
       "      <td>98\\nAnnotation for intention:\\n\\nExternal-even...</td>\n",
       "      <td>\\n\\nHierarchical Power Annotation: N/A\\nPerson...</td>\n",
       "    </tr>\n",
       "    <tr>\n",
       "      <th>10</th>\n",
       "      <td>clean_xml_thread93.MN.infoadded.xml</td>\n",
       "      <td>93\\nAnnotation for intention:\\n\\nArgumentation...</td>\n",
       "      <td>\\n\\nHierarchical Power Annotation: N/A\\nPerson...</td>\n",
       "    </tr>\n",
       "    <tr>\n",
       "      <th>11</th>\n",
       "      <td>clean_xml_thread88.MN.infoadded.xml</td>\n",
       "      <td>88\\n\\nAnnotation for intention:\\n\\nKnowledge-A...</td>\n",
       "      <td>\\n\\n\\nHierarchical Power Annotation: N/A\\nPers...</td>\n",
       "    </tr>\n",
       "    <tr>\n",
       "      <th>12</th>\n",
       "      <td>clean_xml_thread65.MN.infoadded.xml</td>\n",
       "      <td>65\\nAnnotation for intention:\\n\\nKnowledge-Acq...</td>\n",
       "      <td>\\n\\n\\nHierarchical Power Annotation:\\nPerson_1...</td>\n",
       "    </tr>\n",
       "    <tr>\n",
       "      <th>13</th>\n",
       "      <td>clean_xml_thread83.MN.infoadded.xml</td>\n",
       "      <td>83\\n\\nAnnotation for intention:\\n\\nKnowledge-A...</td>\n",
       "      <td>\\n\\n\\nHierarchical Power Annotation: N/A\\nPers...</td>\n",
       "    </tr>\n",
       "    <tr>\n",
       "      <th>14</th>\n",
       "      <td>clean_xml_thread101.MN.infoadded.xml</td>\n",
       "      <td>101\\nAnnotation for intention:\\n\\nExternal-eve...</td>\n",
       "      <td>\\n\\nHierarchical Power Annotation:\\nPerson_1: ...</td>\n",
       "    </tr>\n",
       "    <tr>\n",
       "      <th>15</th>\n",
       "      <td>clean_xml_thread90.MN.infoadded.xml</td>\n",
       "      <td>90\\nAnnotation for intention:\\n\\nKnowledge-Acq...</td>\n",
       "      <td>\\n\\nHierarchical Power Annotation: N/A\\nPerson...</td>\n",
       "    </tr>\n",
       "    <tr>\n",
       "      <th>16</th>\n",
       "      <td>clean_xml_thread84.MN.infoadded.xml</td>\n",
       "      <td>84\\n\\nAnnotation for intention:\\n\\nExternal-ev...</td>\n",
       "      <td>\\n\\n\\nHierarchical Power Annotation: N/A\\nPers...</td>\n",
       "    </tr>\n",
       "    <tr>\n",
       "      <th>17</th>\n",
       "      <td>clean_xml_thread106.MN.infoadded.xml</td>\n",
       "      <td>106\\nAnnotation for intention:\\n\\nKnowledge-Ac...</td>\n",
       "      <td>\\n\\nHierarchical Power Annotation: N/A\\nPerson...</td>\n",
       "    </tr>\n",
       "    <tr>\n",
       "      <th>18</th>\n",
       "      <td>clean_xml_thread66.MN.infoadded.xml</td>\n",
       "      <td>66\\nAnnotation for intention:\\n\\nKnowledge-Acq...</td>\n",
       "      <td>\\n\\n\\nHierarchical Power Annotation: N/A\\nPers...</td>\n",
       "    </tr>\n",
       "    <tr>\n",
       "      <th>19</th>\n",
       "      <td>clean_xml_thread102.MN.infoadded.xml</td>\n",
       "      <td>102\\nAnnotation for intention:\\n\\nCollaboratio...</td>\n",
       "      <td>\\n\\nHierarchical Power Annotation: N/A\\nPerson...</td>\n",
       "    </tr>\n",
       "    <tr>\n",
       "      <th>20</th>\n",
       "      <td>clean_xml_thread94.MN.infoadded.xml</td>\n",
       "      <td>94\\nAnnotation for intention:\\n\\nKnowledge-Acq...</td>\n",
       "      <td>\\n\\nHierarchical Power Annotation: N/A\\nPerson...</td>\n",
       "    </tr>\n",
       "    <tr>\n",
       "      <th>21</th>\n",
       "      <td>clean_xml_thread72.MN.infoadded.xml</td>\n",
       "      <td>72\\nAnnotation for intention:\\n\\nArgumentation...</td>\n",
       "      <td>\\n\\n\\nHierarchical Power Annotation: N/A\\nPers...</td>\n",
       "    </tr>\n",
       "    <tr>\n",
       "      <th>22</th>\n",
       "      <td>clean_xml_thread109.MN.infoadded.xml</td>\n",
       "      <td>109\\nAnnotation for intention:\\n\\nKnowledge-Ac...</td>\n",
       "      <td>\\n\\nHierarchical Power Annotation: N/A\\nPerson...</td>\n",
       "    </tr>\n",
       "    <tr>\n",
       "      <th>23</th>\n",
       "      <td>clean_xml_thread91.MN.infoadded.xml</td>\n",
       "      <td>91\\nAnnotation for intention:\\n\\nCollaboration...</td>\n",
       "      <td>\\n\\nHierarchical Power Annotation: N/A\\nPerson...</td>\n",
       "    </tr>\n",
       "    <tr>\n",
       "      <th>24</th>\n",
       "      <td>clean_xml_thread68.MN.infoadded.xml</td>\n",
       "      <td>68\\nAnnotation for intention:\\n\\nCollaboration...</td>\n",
       "      <td>\\n\\n\\nHierarchical Power Annotation:\\nPerson_1...</td>\n",
       "    </tr>\n",
       "    <tr>\n",
       "      <th>25</th>\n",
       "      <td>clean_xml_thread85.MN.infoadded.xml</td>\n",
       "      <td>85\\nAnnotation for intention:\\n\\nKnowledge-Acq...</td>\n",
       "      <td>\\n\\n\\nHierarchical Power Annotation: N/A\\nPers...</td>\n",
       "    </tr>\n",
       "    <tr>\n",
       "      <th>26</th>\n",
       "      <td>clean_xml_thread103.MN.infoadded.xml</td>\n",
       "      <td>103\\nAnnotation for intention:\\n\\nKnowledge-Ac...</td>\n",
       "      <td>\\n\\nHierarchical Power Annotation: N/A\\nPerson...</td>\n",
       "    </tr>\n",
       "    <tr>\n",
       "      <th>27</th>\n",
       "      <td>clean_xml_thread81.MN.infoadded.xml</td>\n",
       "      <td>81\\nAnnotation for intention:\\n\\nCollaboration...</td>\n",
       "      <td>\\n\\n\\nHierarchical Power Annotation: N/A\\nPers...</td>\n",
       "    </tr>\n",
       "    <tr>\n",
       "      <th>28</th>\n",
       "      <td>clean_xml_thread67.MN.infoadded.xml</td>\n",
       "      <td>67\\nAnnotation for intention:\\n\\nKnowledge-Acq...</td>\n",
       "      <td>\\n\\n\\nHierarchical Power Annotation: N/A\\nPers...</td>\n",
       "    </tr>\n",
       "    <tr>\n",
       "      <th>29</th>\n",
       "      <td>clean_xml_thread108.MN.infoadded.xml</td>\n",
       "      <td>108\\nAnnotation for intention:\\n\\nKnowledge-Ac...</td>\n",
       "      <td>\\n\\nHierarchical Power Annotation: N/A\\nPerson...</td>\n",
       "    </tr>\n",
       "    <tr>\n",
       "      <th>30</th>\n",
       "      <td>clean_xml_thread95.MN.infoadded.xml</td>\n",
       "      <td>95\\nAnnotation for intention:\\n\\nExternal-even...</td>\n",
       "      <td>\\n\\nHierarchical Power Annotation:\\nPerson_1: ...</td>\n",
       "    </tr>\n",
       "  </tbody>\n",
       "</table>\n",
       "</div>"
      ],
      "text/plain": [
       "                                filename  \\\n",
       "0    clean_xml_thread99.MN.infoadded.xml   \n",
       "1   clean_xml_thread104.MN.infoadded.xml   \n",
       "2    clean_xml_thread86.MN.infoadded.xml   \n",
       "3    clean_xml_thread92.MN.infoadded.xml   \n",
       "4    clean_xml_thread89.MN.infoadded.xml   \n",
       "5    clean_xml_thread96.MN.infoadded.xml   \n",
       "6   clean_xml_thread100.MN.infoadded.xml   \n",
       "7    clean_xml_thread82.MN.infoadded.xml   \n",
       "8   clean_xml_thread105.MN.infoadded.xml   \n",
       "9    clean_xml_thread98.MN.infoadded.xml   \n",
       "10   clean_xml_thread93.MN.infoadded.xml   \n",
       "11   clean_xml_thread88.MN.infoadded.xml   \n",
       "12   clean_xml_thread65.MN.infoadded.xml   \n",
       "13   clean_xml_thread83.MN.infoadded.xml   \n",
       "14  clean_xml_thread101.MN.infoadded.xml   \n",
       "15   clean_xml_thread90.MN.infoadded.xml   \n",
       "16   clean_xml_thread84.MN.infoadded.xml   \n",
       "17  clean_xml_thread106.MN.infoadded.xml   \n",
       "18   clean_xml_thread66.MN.infoadded.xml   \n",
       "19  clean_xml_thread102.MN.infoadded.xml   \n",
       "20   clean_xml_thread94.MN.infoadded.xml   \n",
       "21   clean_xml_thread72.MN.infoadded.xml   \n",
       "22  clean_xml_thread109.MN.infoadded.xml   \n",
       "23   clean_xml_thread91.MN.infoadded.xml   \n",
       "24   clean_xml_thread68.MN.infoadded.xml   \n",
       "25   clean_xml_thread85.MN.infoadded.xml   \n",
       "26  clean_xml_thread103.MN.infoadded.xml   \n",
       "27   clean_xml_thread81.MN.infoadded.xml   \n",
       "28   clean_xml_thread67.MN.infoadded.xml   \n",
       "29  clean_xml_thread108.MN.infoadded.xml   \n",
       "30   clean_xml_thread95.MN.infoadded.xml   \n",
       "\n",
       "                                       top_annotation  \\\n",
       "0   99\\nAnnotation for intention:\\n\\nExternal-even...   \n",
       "1   104\\nAnnotation for intention:\\n\\nArgumentatio...   \n",
       "2   86\\n\\nAnnotation for intention:\\n\\nArgumentati...   \n",
       "3   92\\nAnnotation for intention:\\nArgumentation: ...   \n",
       "4   89\\n\\nAnnotation for intention:\\n\\nExternal-ev...   \n",
       "5   96\\nAnnotation for intention:\\n\\nKnowledge-Acq...   \n",
       "6   100\\nAnnotation for intention:\\n\\nExternal-eve...   \n",
       "7   82\\n\\nAnnotation for intention:\\n\\nKnowledge-A...   \n",
       "8   105\\nAnnotation for intention:\\n\\nCollaboratio...   \n",
       "9   98\\nAnnotation for intention:\\n\\nExternal-even...   \n",
       "10  93\\nAnnotation for intention:\\n\\nArgumentation...   \n",
       "11  88\\n\\nAnnotation for intention:\\n\\nKnowledge-A...   \n",
       "12  65\\nAnnotation for intention:\\n\\nKnowledge-Acq...   \n",
       "13  83\\n\\nAnnotation for intention:\\n\\nKnowledge-A...   \n",
       "14  101\\nAnnotation for intention:\\n\\nExternal-eve...   \n",
       "15  90\\nAnnotation for intention:\\n\\nKnowledge-Acq...   \n",
       "16  84\\n\\nAnnotation for intention:\\n\\nExternal-ev...   \n",
       "17  106\\nAnnotation for intention:\\n\\nKnowledge-Ac...   \n",
       "18  66\\nAnnotation for intention:\\n\\nKnowledge-Acq...   \n",
       "19  102\\nAnnotation for intention:\\n\\nCollaboratio...   \n",
       "20  94\\nAnnotation for intention:\\n\\nKnowledge-Acq...   \n",
       "21  72\\nAnnotation for intention:\\n\\nArgumentation...   \n",
       "22  109\\nAnnotation for intention:\\n\\nKnowledge-Ac...   \n",
       "23  91\\nAnnotation for intention:\\n\\nCollaboration...   \n",
       "24  68\\nAnnotation for intention:\\n\\nCollaboration...   \n",
       "25  85\\nAnnotation for intention:\\n\\nKnowledge-Acq...   \n",
       "26  103\\nAnnotation for intention:\\n\\nKnowledge-Ac...   \n",
       "27  81\\nAnnotation for intention:\\n\\nCollaboration...   \n",
       "28  67\\nAnnotation for intention:\\n\\nKnowledge-Acq...   \n",
       "29  108\\nAnnotation for intention:\\n\\nKnowledge-Ac...   \n",
       "30  95\\nAnnotation for intention:\\n\\nExternal-even...   \n",
       "\n",
       "                                    bottom_annotation  \n",
       "0   \\n\\nHierarchical Power Annotation: N/A\\nPerson...  \n",
       "1   \\n\\nHierarchical Power Annotation:\\nPerson_1: ...  \n",
       "2   \\n\\n\\nHierarchical Power Annotation: N/A\\nPers...  \n",
       "3   \\n\\nHierarchical Power Annotation: N/A\\nPerson...  \n",
       "4   \\n\\n\\nHierarchical Power Annotation: N/A\\nPers...  \n",
       "5   \\n\\nHierarchical Power Annotation: N/A\\nPerson...  \n",
       "6   \\n\\nHierarchical Power Annotation: N/A\\nPerson...  \n",
       "7   \\n\\n\\nHierarchical Power Annotation: N/A\\nPers...  \n",
       "8   \\n\\nHierarchical Power Annotation: N/A\\nPerson...  \n",
       "9   \\n\\nHierarchical Power Annotation: N/A\\nPerson...  \n",
       "10  \\n\\nHierarchical Power Annotation: N/A\\nPerson...  \n",
       "11  \\n\\n\\nHierarchical Power Annotation: N/A\\nPers...  \n",
       "12  \\n\\n\\nHierarchical Power Annotation:\\nPerson_1...  \n",
       "13  \\n\\n\\nHierarchical Power Annotation: N/A\\nPers...  \n",
       "14  \\n\\nHierarchical Power Annotation:\\nPerson_1: ...  \n",
       "15  \\n\\nHierarchical Power Annotation: N/A\\nPerson...  \n",
       "16  \\n\\n\\nHierarchical Power Annotation: N/A\\nPers...  \n",
       "17  \\n\\nHierarchical Power Annotation: N/A\\nPerson...  \n",
       "18  \\n\\n\\nHierarchical Power Annotation: N/A\\nPers...  \n",
       "19  \\n\\nHierarchical Power Annotation: N/A\\nPerson...  \n",
       "20  \\n\\nHierarchical Power Annotation: N/A\\nPerson...  \n",
       "21  \\n\\n\\nHierarchical Power Annotation: N/A\\nPers...  \n",
       "22  \\n\\nHierarchical Power Annotation: N/A\\nPerson...  \n",
       "23  \\n\\nHierarchical Power Annotation: N/A\\nPerson...  \n",
       "24  \\n\\n\\nHierarchical Power Annotation:\\nPerson_1...  \n",
       "25  \\n\\n\\nHierarchical Power Annotation: N/A\\nPers...  \n",
       "26  \\n\\nHierarchical Power Annotation: N/A\\nPerson...  \n",
       "27  \\n\\n\\nHierarchical Power Annotation: N/A\\nPers...  \n",
       "28  \\n\\n\\nHierarchical Power Annotation: N/A\\nPers...  \n",
       "29  \\n\\nHierarchical Power Annotation: N/A\\nPerson...  \n",
       "30  \\n\\nHierarchical Power Annotation:\\nPerson_1: ...  "
      ]
     },
     "execution_count": 24,
     "metadata": {},
     "output_type": "execute_result"
    }
   ],
   "source": [
    "df.to_csv('separated_Data.csv')\n",
    "df"
   ]
  },
  {
   "cell_type": "code",
   "execution_count": 26,
   "metadata": {
    "colab": {
     "base_uri": "https://localhost:8080/",
     "height": 844
    },
    "colab_type": "code",
    "id": "GywrYq3vpNqd",
    "outputId": "201a22da-20a9-4044-b814-25d26a45383c"
   },
   "outputs": [],
   "source": [
    "df.to_csv('separated_Data.csv')"
   ]
  },
  {
   "cell_type": "markdown",
   "metadata": {
    "colab": {},
    "colab_type": "code",
    "id": "Y3rWUPsfOK0C"
   },
   "source": [
    "### Cleaning data further"
   ]
  },
  {
   "cell_type": "markdown",
   "metadata": {},
   "source": [
    "##### 1. MTags for example M3.6. and M3.10"
   ]
  },
  {
   "cell_type": "code",
   "execution_count": 8,
   "metadata": {},
   "outputs": [],
   "source": [
    "path = \"Clean XML files/\"\n",
    "name = 'clean_xml_thread99.MN.infoadded.xml.txt'\n",
    "f = open(path  + name)\n",
    "data = f.read()\n",
    "f.close()\n",
    "\n",
    "# removing mtags\n",
    "sansMTags1 = re.sub('M[\\d]?\\.[\\d]+\\.', '' , data)\n",
    "sansMTags2 = re.sub('M[\\d]?\\.[\\d]+', '', sansMTags1)\n",
    "\n",
    "#successfully tested\n",
    "\n",
    "sansBracketComments = re.sub('\\[.+\\]', '' , sansMTags2)\n",
    "\n",
    "#write\n",
    "name = 'test_sansMtag2.txt'\n",
    "writeFile(name, sansBracketComments)"
   ]
  },
  {
   "cell_type": "code",
   "execution_count": 9,
   "metadata": {},
   "outputs": [
    {
     "data": {
      "text/plain": [
       "'<content>\\n\\n At the request of Lynn Handlin, please find attached a copy of the following:\\n\\n GISB contract form\\n\\n Special Provisions for intrastate gas\\n\\n Special Provision for interstate gas\\n\\n\\n\\n\\n\\n Please review,\\n\\n and if interested in putting these contracts in place, forward to\\n\\nme all required information on the first page of the GISB contract form.\\n\\n\\n\\nFlink1.6\\n\\n I will\\n\\nthen have the contracts prepared and forwarded to you for execution.\\n\\n\\n\\n\\n\\n Please keep in mind that TXU Fuel Company is an intrastate pipeline\\n\\n and can\\n\\npurchase interstate gas only under certain limited conditions.\\n\\n These conditions\\n\\nare covered under item number 8 in the Special Provisions.\\n\\n\\n\\n Thanks.\\n\\n\\n\\n\\n\\n Keith Ford\\n\\n TXU Fuel Company\\n\\n Contract Administration Supervisor\\n\\n\\n\\n\\n\\n</content>'"
      ]
     },
     "execution_count": 9,
     "metadata": {},
     "output_type": "execute_result"
    }
   ],
   "source": [
    "sObj = re.search('<content>(.|\\n)*?\\<\\/content>', sansBracketComments)\n",
    "#separatedXML = re.search('<custom>(.|\\n)*?<\\/custom>', v).group(0)\n",
    "sObj.group(0)"
   ]
  },
  {
   "cell_type": "markdown",
   "metadata": {},
   "source": [
    "### Extracting body of message"
   ]
  },
  {
   "cell_type": "code",
   "execution_count": 122,
   "metadata": {},
   "outputs": [
    {
     "data": {
      "text/plain": [
       "'<content>\\n\\n At the request of Lynn Handlin, please find attached a copy of the following:\\n\\n GISB contract form\\n\\n Special Provisions for intrastate gas\\n\\n Special Provision for interstate gas\\n\\n\\n\\n\\n\\n Please review,\\n\\n and if interested in putting these contracts in place, forward to\\n\\nme all required information on the first page of the GISB contract form.\\n\\n\\n\\nFlink1.6\\n\\n I will\\n\\nthen have the contracts prepared and forwarded to you for execution.\\n\\n\\n\\n\\n\\n Please keep in mind that TXU Fuel Company is an intrastate pipeline\\n\\n and can\\n\\npurchase interstate gas only under certain limited conditions.\\n\\n These conditions\\n\\nare covered under item number 8 in the Special Provisions.\\n\\n\\n\\n Thanks.\\n\\n\\n\\n\\n\\n Keith Ford\\n\\n TXU Fuel Company\\n\\n Contract Administration Supervisor\\n\\n\\n\\n\\n\\n</content><content>\\n\\n Mr. Farmer,\\n\\n\\n\\n\\n\\n I have forwarded your request with comments to Debra Perlingiere (Legal Specialist - x3-7658) and Stacey Dickson (Sr. Counsel - x3-5705)\\n\\n who handle negotiations for new Master Agreements.\\n\\n\\n\\n Please let me know if I may be of further assistance.\\n\\n\\n\\n\\n\\n Thank You,\\n\\n\\n\\n Anthony Campos\\n\\n Enron Corp._Global Contracts\\n\\n 713.853.7911 (office)\\n\\n 713.646.2495 (fax)\\n\\n 713.709.0373 (pager)\\n\\n Anthony.Campos@enron.com\\n\\n\\n\\n\\n\\n</content>'"
      ]
     },
     "execution_count": 122,
     "metadata": {},
     "output_type": "execute_result"
    }
   ],
   "source": [
    "emailBodys = []\n",
    "i = re.finditer('<content>(.|\\n)*?\\<\\/content>', sansBracketComments)\n",
    "for each in i:\n",
    "    emailBodys.append(each.group(0))\n",
    "\n",
    "body = ''\n",
    "for text in emailBodys:\n",
    "    body = body + text\n",
    "body"
   ]
  },
  {
   "cell_type": "code",
   "execution_count": 11,
   "metadata": {},
   "outputs": [
    {
     "ename": "SyntaxError",
     "evalue": "invalid syntax (<ipython-input-11-2fc21744716a>, line 5)",
     "output_type": "error",
     "traceback": [
      "\u001b[0;36m  File \u001b[0;32m\"<ipython-input-11-2fc21744716a>\"\u001b[0;36m, line \u001b[0;32m5\u001b[0m\n\u001b[0;31m    tree.\u001b[0m\n\u001b[0m         ^\u001b[0m\n\u001b[0;31mSyntaxError\u001b[0m\u001b[0;31m:\u001b[0m invalid syntax\n"
     ]
    }
   ],
   "source": [
    "#Fetching the 'from' tags\n",
    "import xml.etree.ElementTree as ET\n",
    "tree = ET.ElementTree(ET.fromstring(data))\n",
    "root = tree.getroot()\n",
    "\n",
    "for something in root.iter(tag='from'):\n",
    "    print(something.get('name'))"
   ]
  },
  {
   "cell_type": "code",
   "execution_count": null,
   "metadata": {},
   "outputs": [],
   "source": []
  }
 ],
 "metadata": {
  "colab": {
   "name": "NLP_EDA.ipynb",
   "provenance": [],
   "version": "0.3.2"
  },
  "kernelspec": {
   "display_name": "Python 3",
   "language": "python",
   "name": "python3"
  },
  "language_info": {
   "codemirror_mode": {
    "name": "ipython",
    "version": 3
   },
   "file_extension": ".py",
   "mimetype": "text/x-python",
   "name": "python",
   "nbconvert_exporter": "python",
   "pygments_lexer": "ipython3",
   "version": "3.6.5"
  }
 },
 "nbformat": 4,
 "nbformat_minor": 1
}
